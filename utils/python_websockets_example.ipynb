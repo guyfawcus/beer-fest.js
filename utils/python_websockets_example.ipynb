{
 "cells": [
  {
   "cell_type": "code",
   "execution_count": null,
   "metadata": {},
   "outputs": [],
   "source": [
    "import socketio\n",
    "\n",
    "sio = socketio.Client()\n",
    "\n",
    "@sio.event\n",
    "def connect():\n",
    "    print('---- Connection established ----')\n",
    "    \n",
    "@sio.event\n",
    "def disconnect():\n",
    "    print('---- Disconnected from server ----')\n",
    "\n",
    "@sio.on('update-single')\n",
    "def update_single(data):\n",
    "    print(data)\n",
    "\n",
    "@sio.on('replace-all')\n",
    "def replace_all(data):\n",
    "    print(data)\n",
    "    \n",
    "@sio.on('auth')\n",
    "def auth(data):\n",
    "    pass\n",
    "    \n",
    "@sio.on('config')\n",
    "def config(data):\n",
    "    pass\n",
    "    \n",
    "@sio.on('beers')\n",
    "def beers(data):\n",
    "    pass\n",
    "    \n",
    "@sio.on('history')\n",
    "def history(data):\n",
    "    pass\n",
    "\n",
    "sio.connect('http://localhost:8000')"
   ]
  },
  {
   "cell_type": "code",
   "execution_count": null,
   "metadata": {},
   "outputs": [],
   "source": [
    "sio.emit('update-single', {'number': 1, 'level': 'full'})"
   ]
  }
 ],
 "metadata": {
  "kernelspec": {
   "display_name": "Python 3",
   "language": "python",
   "name": "python3"
  },
  "language_info": {
   "codemirror_mode": {
    "name": "ipython",
    "version": 3
   },
   "file_extension": ".py",
   "mimetype": "text/x-python",
   "name": "python",
   "nbconvert_exporter": "python",
   "pygments_lexer": "ipython3",
   "version": "3.6.9"
  }
 },
 "nbformat": 4,
 "nbformat_minor": 2
}